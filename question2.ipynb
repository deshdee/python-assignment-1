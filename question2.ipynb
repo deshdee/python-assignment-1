{
 "cells": [
  {
   "cell_type": "markdown",
   "id": "a457cba9-aaba-4858-93b8-aaad01a0bbb4",
   "metadata": {},
   "source": [
    "2. Write a Python program that extract the word \"ant\" from the word \"Constantinople\""
   ]
  },
  {
   "cell_type": "code",
   "execution_count": 2,
   "id": "8b30ae27-a890-4be5-8b1b-b0f563736ef1",
   "metadata": {},
   "outputs": [
    {
     "name": "stdout",
     "output_type": "stream",
     "text": [
      "ant\n"
     ]
    }
   ],
   "source": [
    "extract = 'Constantinople'\n",
    "print(extract[5:8])"
   ]
  }
 ],
 "metadata": {
  "kernelspec": {
   "display_name": "Python 3 (ipykernel)",
   "language": "python",
   "name": "python3"
  },
  "language_info": {
   "codemirror_mode": {
    "name": "ipython",
    "version": 3
   },
   "file_extension": ".py",
   "mimetype": "text/x-python",
   "name": "python",
   "nbconvert_exporter": "python",
   "pygments_lexer": "ipython3",
   "version": "3.9.13"
  }
 },
 "nbformat": 4,
 "nbformat_minor": 5
}
