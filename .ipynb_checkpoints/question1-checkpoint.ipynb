{
 "cells": [
  {
   "cell_type": "markdown",
   "id": "ccac1272-e1b0-4493-9450-ee6e7c4b7aff",
   "metadata": {},
   "source": [
    "1. Write a program in Python that prints below\n",
    " The capital of Nigeria is Abuja, it has a population of 200million and it is located in the African continent.\n",
    " Where Nigeria, 200, and African are values of variables\n",
    " a) Write the program in Python by concatenating the variables\n",
    " b) Write the program again by using the *''.format()* method\n",
    " c) Write the program again by using the *f''* format method"
   ]
  },
  {
   "cell_type": "code",
   "execution_count": 6,
   "id": "63c4748f-6c58-473a-b141-467445a4acd5",
   "metadata": {},
   "outputs": [
    {
     "name": "stdout",
     "output_type": "stream",
     "text": [
      "The capital of Nigeria is Abuja, it has a population of 200million and it is located in the African continent.where Nigeria, 200, and African are values of variables\n"
     ]
    }
   ],
   "source": [
    "capital = 'Abuja'\n",
    "population = '200 Million'\n",
    "variables = '200'\n",
    "sentence = 'The capital of Nigeria is Abuja, it has a population of 200million and it is located in the African continent.where Nigeria, 200, and African are values of variables'\n",
    "print(sentence)"
   ]
  },
  {
   "cell_type": "code",
   "execution_count": 2,
   "id": "85eae3c7-d272-4683-8be0-77bd97e39205",
   "metadata": {},
   "outputs": [
    {
     "name": "stdout",
     "output_type": "stream",
     "text": [
      "The capital of Nigeria is Abuja, it has a population of 200 Million and it is located in the African continent. Where Nigeria, 200, and African are values of variables\n"
     ]
    }
   ],
   "source": [
    "capital = 'Abuja'\n",
    "population = '200 Million'\n",
    "variables = 200\n",
    "sentence = 'The capital of Nigeria is {}, it has a population of {} and it is located in the African continent. Where Nigeria, {}, and African are values of variables'.format(capital, population, variables)\n",
    "print(sentence)"
   ]
  },
  {
   "cell_type": "code",
   "execution_count": 4,
   "id": "ce6554b5-c172-4c0c-95eb-b1e745a6dee8",
   "metadata": {},
   "outputs": [
    {
     "name": "stdout",
     "output_type": "stream",
     "text": [
      "The capital of Nigeria is Abuja, it has a population of 200 Million and it is located in the African continent. Where Nigeria, 200, and African are values of variables\n"
     ]
    }
   ],
   "source": [
    "capital = 'Abuja'\n",
    "population = '200 Million'\n",
    "variables = 200\n",
    "sentence = f'The capital of Nigeria is {capital}, it has a population of {population} and it is located in the African continent. Where Nigeria, {variables}, and African are values of variables'\n",
    "print(sentence)"
   ]
  },
  {
   "cell_type": "code",
   "execution_count": null,
   "id": "4b6dc581-657a-4d9d-8a4c-b047e6df34e8",
   "metadata": {},
   "outputs": [],
   "source": []
  }
 ],
 "metadata": {
  "kernelspec": {
   "display_name": "Python 3 (ipykernel)",
   "language": "python",
   "name": "python3"
  },
  "language_info": {
   "codemirror_mode": {
    "name": "ipython",
    "version": 3
   },
   "file_extension": ".py",
   "mimetype": "text/x-python",
   "name": "python",
   "nbconvert_exporter": "python",
   "pygments_lexer": "ipython3",
   "version": "3.9.13"
  }
 },
 "nbformat": 4,
 "nbformat_minor": 5
}
