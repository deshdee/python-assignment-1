{
 "cells": [
  {
   "cell_type": "markdown",
   "id": "9049e99d-58ff-462a-ae8e-fd84141654c1",
   "metadata": {},
   "source": [
    "3. Using string indexing form the word \"antelope\" from the word \"Constantinople\"\n",
    "a. Write a Python program that will display the word \"antelope\" in upper case, lowercase and sentence\n",
    "case"
   ]
  },
  {
   "cell_type": "code",
   "execution_count": 2,
   "id": "9fc6969c-dcb2-49f6-80d2-cfc58f0c41d9",
   "metadata": {},
   "outputs": [
    {
     "name": "stdout",
     "output_type": "stream",
     "text": [
      "antinople\n"
     ]
    }
   ],
   "source": [
    "extract = 'Constantinople'\n",
    "fextract = extract[5:14]\n",
    "print(fextract)"
   ]
  },
  {
   "cell_type": "code",
   "execution_count": 8,
   "id": "ca8b6e6b-53f8-4f91-a13b-4264babcfbdb",
   "metadata": {},
   "outputs": [
    {
     "name": "stdout",
     "output_type": "stream",
     "text": [
      "ant\n",
      "e\n",
      "l\n",
      "op\n",
      "antelope\n"
     ]
    }
   ],
   "source": [
    "extract = 'Constantinople'\n",
    "fextract = extract[5:14]\n",
    "ffextract = fextract[0:3]\n",
    "fffextract = fextract[8]\n",
    "fiextract = fextract[7]\n",
    "feextract = fextract[-4:-2]\n",
    "word = ffextract + fffextract + fiextract + feextract + fffextract\n",
    "print(ffextract)\n",
    "print(fffextract)\n",
    "print(fiextract)\n",
    "print(feextract)\n",
    "print(word)"
   ]
  },
  {
   "cell_type": "code",
   "execution_count": 9,
   "id": "fcc0587f-abdb-4323-b7ee-30483ddd0bf5",
   "metadata": {},
   "outputs": [
    {
     "name": "stdout",
     "output_type": "stream",
     "text": [
      "antelope\n"
     ]
    }
   ],
   "source": [
    "print(word)"
   ]
  },
  {
   "cell_type": "code",
   "execution_count": 10,
   "id": "9fd4bb8a-9f10-4faf-b139-34011249548f",
   "metadata": {},
   "outputs": [
    {
     "name": "stdout",
     "output_type": "stream",
     "text": [
      "ANTELOPE\n"
     ]
    }
   ],
   "source": [
    "print(word.upper())"
   ]
  },
  {
   "cell_type": "code",
   "execution_count": 11,
   "id": "045b8763-8ab0-4bcb-9ba9-591b63943c97",
   "metadata": {},
   "outputs": [
    {
     "name": "stdout",
     "output_type": "stream",
     "text": [
      "antelope\n"
     ]
    }
   ],
   "source": [
    "print(word.lower())"
   ]
  }
 ],
 "metadata": {
  "kernelspec": {
   "display_name": "Python 3 (ipykernel)",
   "language": "python",
   "name": "python3"
  },
  "language_info": {
   "codemirror_mode": {
    "name": "ipython",
    "version": 3
   },
   "file_extension": ".py",
   "mimetype": "text/x-python",
   "name": "python",
   "nbconvert_exporter": "python",
   "pygments_lexer": "ipython3",
   "version": "3.9.13"
  }
 },
 "nbformat": 4,
 "nbformat_minor": 5
}
