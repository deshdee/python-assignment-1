{
 "cells": [
  {
   "cell_type": "markdown",
   "id": "ddeac42c-7778-4866-b8b9-273b0da770ac",
   "metadata": {},
   "source": [
    "4. Calculate the area of a circle using the formular below\n",
    " Where r = 7 and π = 3.142"
   ]
  },
  {
   "cell_type": "code",
   "execution_count": 4,
   "id": "e27f03cc-d538-4f1c-a7d9-3675398009f7",
   "metadata": {},
   "outputs": [
    {
     "name": "stdout",
     "output_type": "stream",
     "text": [
      "153.958\n"
     ]
    }
   ],
   "source": [
    "r = 7\n",
    "π = 3.142\n",
    "Area = π*(r**2)\n",
    "print(Area)"
   ]
  }
 ],
 "metadata": {
  "kernelspec": {
   "display_name": "Python 3 (ipykernel)",
   "language": "python",
   "name": "python3"
  },
  "language_info": {
   "codemirror_mode": {
    "name": "ipython",
    "version": 3
   },
   "file_extension": ".py",
   "mimetype": "text/x-python",
   "name": "python",
   "nbconvert_exporter": "python",
   "pygments_lexer": "ipython3",
   "version": "3.9.13"
  }
 },
 "nbformat": 4,
 "nbformat_minor": 5
}
